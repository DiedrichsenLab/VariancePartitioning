{
 "cells": [
  {
   "cell_type": "markdown",
   "id": "6ab2bcc9",
   "metadata": {},
   "source": [
    "# How much do the predictions of the models overlap?\n",
    "Clearly, the correlations of the predictions of two models must correlate as strongly as the predictors of the models themselves (for single regressors). \n",
    "The only quqestion is if this correlation is positive or negative.\n",
    "Negative correlations between predictors occur when $sign((r12 * r1y * r2y)) = -1$."
   ]
  },
  {
   "cell_type": "code",
   "execution_count": 117,
   "id": "007c1478",
   "metadata": {},
   "outputs": [],
   "source": [
    "import numpy as np"
   ]
  },
  {
   "cell_type": "code",
   "execution_count": 118,
   "id": "9d83bd70",
   "metadata": {},
   "outputs": [],
   "source": [
    "x1 = np.random.normal(0,1,(5,1))\n",
    "x2 = np.random.normal(0,1,(5,1))\n",
    "y = 0.5*x1 + 0.5*x2 + np.random.normal(0,1,(5,1))\n",
    "x1 = (x1 - np.mean(x1)) / np.std(x1) / np.sqrt(5)\n",
    "x2 = (x2 - np.mean(x2)) / np.std(x2) / np.sqrt(5)\n",
    "y = (y - np.mean(y)) / np.std(y) / np.sqrt(5)\n"
   ]
  },
  {
   "cell_type": "code",
   "execution_count": 119,
   "id": "777dbf97",
   "metadata": {},
   "outputs": [
    {
     "name": "stdout",
     "output_type": "stream",
     "text": [
      "[[0.31218726]] [[0.6302367]] [[0.3880566]]\n"
     ]
    }
   ],
   "source": [
    "r12 = x1.T @ x2\n",
    "r1y = x1.T @ y\n",
    "r2y = x2.T @ y\n",
    "print (r12, r1y, r2y)"
   ]
  },
  {
   "cell_type": "code",
   "execution_count": 120,
   "id": "00e1e8d8",
   "metadata": {},
   "outputs": [
    {
     "name": "stdout",
     "output_type": "stream",
     "text": [
      "[[0.31218726]]\n",
      "[[0.31218726]]\n"
     ]
    }
   ],
   "source": [
    "# Predicted y when we regress it on x1\n",
    "y1 = r1y * x1\n",
    "# Predicted y when we regress it on x2\n",
    "y2 = r2y * x2\n",
    "# Correlation between the two predictions\n",
    "ry1y2 = (y1.T @ y2) / (np.sqrt((y1.T @ y1) * (y2.T @ y2)))\n",
    "print(ry1y2)\n",
    "ry1y2_alt = r1y * r2y * r12 / (np.sqrt(r1y**2) * np.sqrt(r2y**2))\n",
    "print(ry1y2_alt)"
   ]
  }
 ],
 "metadata": {
  "kernelspec": {
   "display_name": "base",
   "language": "python",
   "name": "python3"
  },
  "language_info": {
   "codemirror_mode": {
    "name": "ipython",
    "version": 3
   },
   "file_extension": ".py",
   "mimetype": "text/x-python",
   "name": "python",
   "nbconvert_exporter": "python",
   "pygments_lexer": "ipython3",
   "version": "3.9.5"
  }
 },
 "nbformat": 4,
 "nbformat_minor": 5
}
