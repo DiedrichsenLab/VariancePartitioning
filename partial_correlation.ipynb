{
 "cells": [
  {
   "cell_type": "code",
   "execution_count": 2,
   "metadata": {},
   "outputs": [],
   "source": [
    "import sympy as sym\n",
    "import numpy as np\n",
    "import matplotlib.pyplot as plt\n",
    "import matplotlib.tri as mtri\n",
    "import PcmPy as pcm\n",
    "import warnings\n",
    "import os\n",
    "from sympy import sqrt"
   ]
  },
  {
   "cell_type": "markdown",
   "metadata": {},
   "source": [
    "## Partial and semi-partial correlations to estimate unique variance explained by a variable in a regression model \n",
    "We consider $y$ and regressors $x_1$ and $x_2$ in the bivariate linear regression model. \n",
    "\n",
    "The results are completely dependent on the three correlation between the variables: \n",
    "$r_{12}=corr(x_1,x_2)$\n",
    "$r_{y1}=corr(x_1,y)$, and $r_{y2}=corr(x_2,y)$.\n",
    "\n",
    "### Partial correlation\n",
    "The partial correlation between $y$ and $x_1$ controlling for $x_2$ is defined as the correlation between the residuals of $y$ and $x_1$ after regressing both $on $x_2$.\n",
    "\n",
    "Analytically, it can be computed as:\n",
    "$$r_{y,1|2} = \\frac{r_{y1} - r_{y2} r_{12}}{\\sqrt{(1 - r_{y2}^2)(1 - r_{12}^2)}}$$\n",
    "\n",
    "### Semi-partial correlation\n",
    "The semi-partial correlation between $y$ and $x_1$ controlling for $x_2$ is defined as the correlation between $y$ and the residuals of $x_1$ after regressing $x_1$ on $x_2$.\n",
    "\n",
    "Analytically, it can be computed as:\n",
    "$$r_{y,(1|2)} = \\frac{r_{y1} - r_{y2} r_{12}}{\\sqrt{(1 - r_{12}^2)}}$$\n",
    "\n",
    "### Regression coefficients in multiple regression and their relation to partial and semi-partial correlations\n",
    "In a multiple regression model with $y$ as the dependent variable and $x_1$ and $x_2$ as independent variables, the regression coefficients $\\beta_1$ and $\\beta_2$ are simply scaled version of the semi-partial correlations.\n",
    "The regression coefficient $\\beta_1$ for $x_1$ can be expressed as:\n",
    "$$\\beta_1 = r_{y,(1|2)} \\cdot \\frac{\\sigma_y}{\\sigma_{x_1}}$$\n",
    "where $\\sigma_y$ is the standard deviation of $y$ and $\\sigma_{x_1}$ is the standard deviation of $x_1$.        "
   ]
  },
  {
   "cell_type": "code",
   "execution_count": 4,
   "metadata": {},
   "outputs": [
    {
     "data": {
      "text/latex": [
       "$\\displaystyle - r_{12}^{2} + 2 r_{12} ry_{1} ry_{2} - ry_{1}^{2} - ry_{2}^{2} + 1$"
      ],
      "text/plain": [
       "-r12**2 + 2*r12*ry1*ry2 - ry1**2 - ry2**2 + 1"
      ]
     },
     "execution_count": 4,
     "metadata": {},
     "output_type": "execute_result"
    }
   ],
   "source": [
    "from sympy import sqrt\n",
    "# We can only have combinations of the three correlations, for which\n",
    "# the determinant is non-negative.\n",
    "ry1,ry2,r12=sym.symbols('ry1,ry2,r12')\n",
    "F = sym.Matrix([[1, ry1, ry2],[ry1,1,r12],[ry2,r12,1]])\n",
    "F.det()\n"
   ]
  },
  {
   "cell_type": "code",
   "execution_count": 5,
   "metadata": {},
   "outputs": [
    {
     "data": {
      "text/latex": [
       "$\\displaystyle \\left[\\begin{matrix}\\frac{1}{1 - r_{12}^{2}} & - \\frac{r_{12}}{1 - r_{12}^{2}}\\\\- \\frac{r_{12}}{1 - r_{12}^{2}} & \\frac{1}{1 - r_{12}^{2}}\\end{matrix}\\right]$"
      ],
      "text/plain": [
       "Matrix([\n",
       "[   1/(1 - r12**2), -r12/(1 - r12**2)],\n",
       "[-r12/(1 - r12**2),    1/(1 - r12**2)]])"
      ]
     },
     "execution_count": 5,
     "metadata": {},
     "output_type": "execute_result"
    }
   ],
   "source": [
    "# What is R2 for the full model?\n",
    "# First determine inv(X'X)\n",
    "XX = sym.Matrix([[1, r12],[r12,1]])\n",
    "XY = sym.Matrix([[ry1, ry2]])\n",
    "XX.inv()"
   ]
  },
  {
   "cell_type": "code",
   "execution_count": null,
   "metadata": {},
   "outputs": [
    {
     "data": {
      "text/latex": [
       "$\\displaystyle \\left[\\begin{matrix}- \\frac{r_{12} ry_{2}}{1 - r_{12}^{2}} + \\frac{ry_{1}}{1 - r_{12}^{2}}\\\\- \\frac{r_{12} ry_{1}}{1 - r_{12}^{2}} + \\frac{ry_{2}}{1 - r_{12}^{2}}\\end{matrix}\\right]$"
      ],
      "text/plain": [
       "Matrix([\n",
       "[-r12*ry2/(1 - r12**2) + ry1/(1 - r12**2)],\n",
       "[-r12*ry1/(1 - r12**2) + ry2/(1 - r12**2)]])"
      ]
     },
     "execution_count": 6,
     "metadata": {},
     "output_type": "execute_result"
    }
   ],
   "source": [
    "# Now get the Regression coefficients\n",
    "XX.inv() @ XY.T"
   ]
  },
  {
   "cell_type": "markdown",
   "metadata": {},
   "source": [
    "## Estimating unique variation  \n",
    "We compare the variance partitioning method and the square semi-partial correlation as estimates of unique variance explained by a variable in a regression model."
   ]
  },
  {
   "cell_type": "code",
   "execution_count": null,
   "metadata": {
    "vscode": {
     "languageId": "ruby"
    }
   },
   "outputs": [],
   "source": [
    "def determinant(r_y1, r_y2, r12):\n",
    "    \"\"\"\n",
    "    Calculate the determinant of the correlation matrix\n",
    "\n",
    "    Args:\n",
    "        r_y1 (float) : Correlation of first predictor with the dependent variable\n",
    "        r_y2 (float) : Correlation of second predictor with the dependent variable\n",
    "        r12 (float) : Correlation between the two predictors\n",
    "\n",
    "    Returns:\n",
    "        det (float) : Determinant of the 3x3 correlation matrix\n",
    "\n",
    "    \"\"\"\n",
    "    DET = 1 - r_y1**2 - r_y2**2 - r12**2 + 2 * r_y1 * r_y2 * r12\n",
    "    return DET\n",
    "\n",
    "def unique_variance_partitioning(r_y1, r_y2, r12):\n",
    "    \"\"\"\n",
    "    Estimate unique variation for X1 from variance partitioning\n",
    "\n",
    "    Args:\n",
    "        r_y1 (float) : Correlation of first predictor with the dependent variable\n",
    "        r_y2 (float) : Correlation of second predictor with the dependent variable\n",
    "        r12 (float) : Correlation between the two predictors\n",
    "\n",
    "    Returns:\n",
    "        unique_variance (float) : Unique variance explained by the first predictor\n",
    "\n",
    "    \"\"\"\n",
    "    # R2 of the joint model:\n",
    "    RY12 = (2 * r_y1 * r_y2 * r12 - r_y1**2 - r_y2**2) / (r12**2 - 1)\n",
    "    shared_variance = r_y1**2 + r_y2**2 - RY12\n",
    "    unique_variance = RY12 - r_y2**2\n",
    "    return unique_variance\n",
    "\n",
    "def unique_variance_semipartial(r_y1, r_y2, r12):\n",
    "    \"\"\"\n",
    "    Estimate unique variation for X1 from semi-partial correlation\n",
    "\n",
    "    Args:\n",
    "        r_y1 (float) : Correlation of first predictor with the dependent variable\n",
    "        r_y2 (float) : Correlation of second predictor with the dependent variable\n",
    "        r12 (float) : Correlation between the two predictors\n",
    "\n",
    "    Returns:\n",
    "        unique_variance (float) : Unique variance explained by the first predictor\n",
    "\n",
    "    \"\"\"\n",
    "    # R2 of the joint model:\n",
    "    unique_variance = (r_y1 - r_y2 * r12)**2  / (1 - r12**2)\n",
    "    return unique_variance\n"
   ]
  },
  {
   "cell_type": "code",
   "execution_count": 34,
   "metadata": {},
   "outputs": [],
   "source": [
    "# Contour plot function\n",
    "\n",
    "def bivariate_regression_contour(function,scale=[-1,1],fig=None):\n",
    "    if fig is None:\n",
    "        fig = plt.figure(figsize=(16, 5))\n",
    "    RY1, RY2 = np.meshgrid(np.linspace(-1,1,40),np.linspace(-1,1,40))\n",
    "    R12 = np.linspace(-0.9,0.9,11)\n",
    "    # to be plotted value\n",
    "    value = np.zeros((len(R12),RY1.shape[0],RY1.shape[1]))\n",
    "    for i,r12 in enumerate(R12):\n",
    "        RY12 = function(RY1, RY2, r12)\n",
    "        DET = determinant(RY1, RY2, r12)\n",
    "        RY12[DET<0] = np.nan # Kill stuff outside the ellipse\n",
    "        ax = plt.subplot(2,6,i+1)\n",
    "        value[i] = RY1**2 + RY2**2 - RY12\n",
    "        plt.contourf(RY1,RY2,value[i],levels=[-1,-0.3,-0.2,-0.1,0,0.1,0.2,0.3,1],cmap='bwr')\n",
    "        ax.set_xticklabels([])\n",
    "        ax.set_yticklabels([])\n",
    "    return value"
   ]
  },
  {
   "cell_type": "markdown",
   "metadata": {},
   "source": [
    "### Occurance of suppression and redundancy\n",
    "Look at suppression (negative values) and redundancy (positive values) across the entire volume of the correlations space\n",
    "We see that suppression is as prevalent as redundancy. "
   ]
  },
  {
   "cell_type": "code",
   "execution_count": 35,
   "metadata": {},
   "outputs": [
    {
     "data": {
      "image/png": "[encoded data removed]",
      "text/plain": [
       "<Figure size 1152x360 with 11 Axes>"
      ]
     },
     "metadata": {
      "needs_background": "light"
     },
     "output_type": "display_data"
    }
   ],
   "source": [
    "val1=bivariate_regression_contour(unique_variance_partitioning)"
   ]
  },
  {
   "cell_type": "code",
   "execution_count": 36,
   "metadata": {},
   "outputs": [
    {
     "data": {
      "image/png": "[encoded data removed]",
      "text/plain": [
       "<Figure size 1152x360 with 11 Axes>"
      ]
     },
     "metadata": {
      "needs_background": "light"
     },
     "output_type": "display_data"
    }
   ],
   "source": [
    "val2=bivariate_regression_contour(unique_variance_semipartial)"
   ]
  }
 ],
 "metadata": {
  "kernelspec": {
   "display_name": "base",
   "language": "python",
   "name": "python3"
  },
  "language_info": {
   "codemirror_mode": {
    "name": "ipython",
    "version": 3
   },
   "file_extension": ".py",
   "mimetype": "text/x-python",
   "name": "python",
   "nbconvert_exporter": "python",
   "pygments_lexer": "ipython3",
   "version": "3.9.5"
  },
  "orig_nbformat": 4,
  "vscode": {
   "interpreter": {
    "hash": "82c9595c6ac3df5bed1366f4aa85323e4ec1b3448185f6be6e163d2b6e222f49"
   }
  }
 },
 "nbformat": 4,
 "nbformat_minor": 2
}
